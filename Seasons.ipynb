{
 "cells": [
  {
   "cell_type": "code",
   "execution_count": 2,
   "id": "cf4fdfad-d657-4e68-98a3-8f7becd1a564",
   "metadata": {},
   "outputs": [],
   "source": [
    "import pandas as pd\n",
    "import geopandas as gpd\n",
    "import datetime as date\n",
    "\n",
    "import matplotlib.pyplot as plt\n",
    "from shapely.geometry import Point"
   ]
  },
  {
   "cell_type": "markdown",
   "id": "56d7031e",
   "metadata": {},
   "source": [
    "Reading the \"Traffic_Crashes_-_People.csv\" file into the variable crashes to create a pandas dataframe."
   ]
  },
  {
   "cell_type": "code",
   "execution_count": 3,
   "id": "f1a4f6c8-dd17-4af9-ba15-c0784b59eba8",
   "metadata": {},
   "outputs": [
    {
     "name": "stdout",
     "output_type": "stream",
     "text": [
      "['CRASH_RECORD_ID', 'RD_NO', 'CRASH_DATE_EST_I', 'CRASH_DATE', 'POSTED_SPEED_LIMIT', 'TRAFFIC_CONTROL_DEVICE', 'DEVICE_CONDITION', 'WEATHER_CONDITION', 'LIGHTING_CONDITION', 'FIRST_CRASH_TYPE', 'TRAFFICWAY_TYPE', 'LANE_CNT', 'ALIGNMENT', 'ROADWAY_SURFACE_COND', 'ROAD_DEFECT', 'REPORT_TYPE', 'CRASH_TYPE', 'INTERSECTION_RELATED_I', 'NOT_RIGHT_OF_WAY_I', 'HIT_AND_RUN_I', 'DAMAGE', 'DATE_POLICE_NOTIFIED', 'PRIM_CONTRIBUTORY_CAUSE', 'SEC_CONTRIBUTORY_CAUSE', 'STREET_NO', 'STREET_DIRECTION', 'STREET_NAME', 'BEAT_OF_OCCURRENCE', 'PHOTOS_TAKEN_I', 'STATEMENTS_TAKEN_I', 'DOORING_I', 'WORK_ZONE_I', 'WORK_ZONE_TYPE', 'WORKERS_PRESENT_I', 'NUM_UNITS', 'MOST_SEVERE_INJURY', 'INJURIES_TOTAL', 'INJURIES_FATAL', 'INJURIES_INCAPACITATING', 'INJURIES_NON_INCAPACITATING', 'INJURIES_REPORTED_NOT_EVIDENT', 'INJURIES_NO_INDICATION', 'INJURIES_UNKNOWN', 'CRASH_HOUR', 'CRASH_DAY_OF_WEEK', 'CRASH_MONTH', 'LATITUDE', 'LONGITUDE', 'LOCATION']\n"
     ]
    }
   ],
   "source": [
    "crashes = pd.read_csv('Traffic_Crashes_-_Crashes.csv', low_memory = False)\n",
    "print(crashes.columns.values.tolist())"
   ]
  },
  {
   "cell_type": "markdown",
   "id": "25be8bf1",
   "metadata": {},
   "source": [
    "Converting the data in the 'CRASH_DATE' column from date and time type to just date type using the datetime library"
   ]
  },
  {
   "cell_type": "code",
   "execution_count": 4,
   "id": "2beec6a9",
   "metadata": {},
   "outputs": [],
   "source": [
    "crashes['CRASH_DATE'] = pd.to_datetime(crashes['CRASH_DATE']).dt.date"
   ]
  },
  {
   "cell_type": "markdown",
   "id": "4aa851d8",
   "metadata": {},
   "source": [
    "Extracting only the data from 8/1/2020 to 8/1/2022 and stored inside the variable dates."
   ]
  },
  {
   "cell_type": "code",
   "execution_count": 5,
   "id": "19910181-5f0c-40a6-918e-e46a62d31324",
   "metadata": {},
   "outputs": [
    {
     "data": {
      "text/plain": [
       "(118700, 49)"
      ]
     },
     "execution_count": 5,
     "metadata": {},
     "output_type": "execute_result"
    }
   ],
   "source": [
    "dBefore = date.date(2020, 1, 1)\n",
    "dAfter = date.date(2022, 1, 1)\n",
    "crashes = crashes[(crashes['CRASH_DATE'] > dBefore) & (crashes['CRASH_DATE'] < dAfter)]\n",
    "crashes.shape"
   ]
  },
  {
   "cell_type": "markdown",
   "id": "d3ba420e",
   "metadata": {},
   "source": [
    "Dropping the columns that will not be used in the future cells to visualize data."
   ]
  },
  {
   "cell_type": "code",
   "execution_count": 23,
   "id": "f5a6172e",
   "metadata": {},
   "outputs": [],
   "source": [
    "winter2020r = date.date(2019, 12, 1)\n",
    "spring2020r = date.date(2020, 3, 1)\n",
    "summer2020r = date.date(2020, 6, 1)\n",
    "fall2020r = date.date(2020, 9, 1)\n",
    "winter2021r = date.date(2020, 12, 1)\n",
    "spring2021r = date.date(2021, 3, 1)\n",
    "summer2021r = date.date(2021, 6, 1)\n",
    "fall2021r = date.date(2021, 9, 1)\n",
    "winter2022r = date.date(2021, 12, 1)"
   ]
  },
  {
   "cell_type": "code",
   "execution_count": 38,
   "id": "ca920eb3",
   "metadata": {},
   "outputs": [],
   "source": [
    "winter2020 = crashes[(crashes['CRASH_DATE'] >= winter2020r) & (crashes['CRASH_DATE'] < spring2020r)]\n",
    "spring2020 = crashes[(crashes['CRASH_DATE'] >= spring2020r) & (crashes['CRASH_DATE'] < summer2020r)]\n",
    "summer2020 = crashes[(crashes['CRASH_DATE'] >= summer2020r) & (crashes['CRASH_DATE'] < fall2020r)]\n",
    "fall2020 = crashes[(crashes['CRASH_DATE'] >= fall2020r) & (crashes['CRASH_DATE'] < winter2020r)]\n",
    "winter2021 = crashes[(crashes['CRASH_DATE'] >= winter2021r) & (crashes['CRASH_DATE'] < spring2021r)]\n",
    "spring2021 = crashes[(crashes['CRASH_DATE'] >= spring2021r) & (crashes['CRASH_DATE'] < summer2021r)]\n",
    "summer2021 = crashes[(crashes['CRASH_DATE'] >= summer2021r) & (crashes['CRASH_DATE'] < fall2021r)]\n",
    "fall2021 = crashes[(crashes['CRASH_DATE'] >= fall2021r) & (crashes['CRASH_DATE'] < winter2022r)]\n",
    "\n",
    "# spring = pd.concat([spring2020, spring2021])\n",
    "# spring['SEASON'] = 'spring'\n",
    "# summer = pd.concat([summer2020, summer2021])\n",
    "# summer['SEASON'] = 'summer'\n",
    "# fall = pd.concat([fall2020, fall2021])\n",
    "# fall['SEASON'] = 'fall'\n",
    "# winter = pd.concat([winter2020, winter2021])\n",
    "# winter['SEASON'] = 'winter'\n",
    "\n",
    "# wSpring = spring.filter(['WEATHER_CONDITION'])\n",
    "# wSpring['SPRING'] = 1\n",
    "# wSpring = wSpring.groupby(['WEATHER_CONDITION']).sum('SPRING')\n",
    "# wSummer = summer.filter(['WEATHER_CONDITION'])\n",
    "# wSummer['SUMMER'] = 1\n",
    "# wSummer = wSummer.groupby(['WEATHER_CONDITION']).sum('SUMMER')\n",
    "# wFall = fall.filter(['WEATHER_CONDITION'])\n",
    "# wFall['FALL'] = 1\n",
    "# wFall = wFall.groupby(['WEATHER_CONDITION']).sum('FALL')\n",
    "# wWinter = winter.filter(['WEATHER_CONDITION'])\n",
    "# wWinter['WINTER'] = 1\n",
    "# wWinter = wWinter.groupby(['WEATHER_CONDITION']).sum('WINTER')\n",
    "\n",
    "# spring = spring.groupby('SEASON').count()\n",
    "# spring = spring.filter(['RD_NO'])\n",
    "# summer = summer.groupby('SEASON').count()\n",
    "# summer = summer.filter(['RD_NO'])\n",
    "# fall = fall.groupby('SEASON').count()\n",
    "# fall = fall.filter(['RD_NO'])\n",
    "# winter = winter.groupby('SEASON').count()\n",
    "# winter = winter.filter(['RD_NO'])\n",
    "\n",
    "# final = pd.concat([spring, summer, fall, winter])\n",
    "# wFinal = pd.merge(wSpring, wSummer, on='WEATHER_CONDITION')\n",
    "# wFinal = pd.merge(wFinal, wFall, on = 'WEATHER_CONDITION')\n",
    "# wFinal = pd.merge(wFinal, wWinter, on = 'WEATHER_CONDITION')\n",
    "# final.head()\n",
    "\n",
    "\n",
    "\n",
    "# dates2020 = dates2020.filter(['CRASH_DATE', 'PERSON_ID'])\n",
    "# dates2021 = dates2021.filter(['CRASH_DATE', 'PERSON_ID'])"
   ]
  },
  {
   "cell_type": "code",
   "execution_count": 39,
   "id": "ea645ca2",
   "metadata": {},
   "outputs": [],
   "source": [
    "spring = pd.concat([spring2020, spring2021])\n",
    "spring['SEASON'] = 'spring'\n",
    "summer = pd.concat([summer2020, summer2021])\n",
    "summer['SEASON'] = 'summer'\n",
    "fall = pd.concat([fall2020, fall2021])\n",
    "fall['SEASON'] = 'fall'\n",
    "winter = pd.concat([winter2020, winter2021])\n",
    "winter['SEASON'] = 'winter'"
   ]
  },
  {
   "cell_type": "code",
   "execution_count": 40,
   "id": "1bc723f0",
   "metadata": {},
   "outputs": [],
   "source": [
    "wSpring = spring.filter(['WEATHER_CONDITION'])\n",
    "wSpring['SPRING'] = 1\n",
    "wSpring = wSpring.groupby(['WEATHER_CONDITION']).sum('SPRING')\n",
    "wSummer = summer.filter(['WEATHER_CONDITION'])\n",
    "wSummer['SUMMER'] = 1\n",
    "wSummer = wSummer.groupby(['WEATHER_CONDITION']).sum('SUMMER')\n",
    "wFall = fall.filter(['WEATHER_CONDITION'])\n",
    "wFall['FALL'] = 1\n",
    "wFall = wFall.groupby(['WEATHER_CONDITION']).sum('FALL')\n",
    "wWinter = winter.filter(['WEATHER_CONDITION'])\n",
    "wWinter['WINTER'] = 1\n",
    "wWinter = wWinter.groupby(['WEATHER_CONDITION']).sum('WINTER')"
   ]
  },
  {
   "cell_type": "code",
   "execution_count": 41,
   "id": "e1554bfc",
   "metadata": {},
   "outputs": [],
   "source": [
    "spring = spring.groupby('SEASON').count()\n",
    "spring = spring.filter(['RD_NO'])\n",
    "summer = summer.groupby('SEASON').count()\n",
    "summer = summer.filter(['RD_NO'])\n",
    "fall = fall.groupby('SEASON').count()\n",
    "fall = fall.filter(['RD_NO'])\n",
    "winter = winter.groupby('SEASON').count()\n",
    "winter = winter.filter(['RD_NO'])"
   ]
  },
  {
   "cell_type": "code",
   "execution_count": 42,
   "id": "56bec5ab",
   "metadata": {},
   "outputs": [
    {
     "data": {
      "text/html": [
       "<div>\n",
       "<style scoped>\n",
       "    .dataframe tbody tr th:only-of-type {\n",
       "        vertical-align: middle;\n",
       "    }\n",
       "\n",
       "    .dataframe tbody tr th {\n",
       "        vertical-align: top;\n",
       "    }\n",
       "\n",
       "    .dataframe thead th {\n",
       "        text-align: right;\n",
       "    }\n",
       "</style>\n",
       "<table border=\"1\" class=\"dataframe\">\n",
       "  <thead>\n",
       "    <tr style=\"text-align: right;\">\n",
       "      <th></th>\n",
       "      <th>SPRING</th>\n",
       "      <th>SUMMER</th>\n",
       "      <th>FALL</th>\n",
       "      <th>WINTER</th>\n",
       "    </tr>\n",
       "    <tr>\n",
       "      <th>WEATHER_CONDITION</th>\n",
       "      <th></th>\n",
       "      <th></th>\n",
       "      <th></th>\n",
       "      <th></th>\n",
       "    </tr>\n",
       "  </thead>\n",
       "  <tbody>\n",
       "    <tr>\n",
       "      <th>CLEAR</th>\n",
       "      <td>20980</td>\n",
       "      <td>29256</td>\n",
       "      <td>13572</td>\n",
       "      <td>16156</td>\n",
       "    </tr>\n",
       "    <tr>\n",
       "      <th>CLOUDY/OVERCAST</th>\n",
       "      <td>781</td>\n",
       "      <td>566</td>\n",
       "      <td>585</td>\n",
       "      <td>887</td>\n",
       "    </tr>\n",
       "    <tr>\n",
       "      <th>FOG/SMOKE/HAZE</th>\n",
       "      <td>23</td>\n",
       "      <td>8</td>\n",
       "      <td>9</td>\n",
       "      <td>50</td>\n",
       "    </tr>\n",
       "    <tr>\n",
       "      <th>FREEZING RAIN/DRIZZLE</th>\n",
       "      <td>29</td>\n",
       "      <td>15</td>\n",
       "      <td>38</td>\n",
       "      <td>170</td>\n",
       "    </tr>\n",
       "    <tr>\n",
       "      <th>OTHER</th>\n",
       "      <td>43</td>\n",
       "      <td>49</td>\n",
       "      <td>35</td>\n",
       "      <td>141</td>\n",
       "    </tr>\n",
       "  </tbody>\n",
       "</table>\n",
       "</div>"
      ],
      "text/plain": [
       "                       SPRING  SUMMER   FALL  WINTER\n",
       "WEATHER_CONDITION                                   \n",
       "CLEAR                   20980   29256  13572   16156\n",
       "CLOUDY/OVERCAST           781     566    585     887\n",
       "FOG/SMOKE/HAZE             23       8      9      50\n",
       "FREEZING RAIN/DRIZZLE      29      15     38     170\n",
       "OTHER                      43      49     35     141"
      ]
     },
     "execution_count": 42,
     "metadata": {},
     "output_type": "execute_result"
    }
   ],
   "source": [
    "wFinal = pd.merge(wSpring, wSummer, on='WEATHER_CONDITION')\n",
    "wFinal = pd.merge(wFinal, wFall, on = 'WEATHER_CONDITION')\n",
    "wFinal = pd.merge(wFinal, wWinter, on = 'WEATHER_CONDITION')\n",
    "wFinal.head()"
   ]
  },
  {
   "cell_type": "code",
   "execution_count": 43,
   "id": "238b1f6e",
   "metadata": {},
   "outputs": [
    {
     "data": {
      "text/html": [
       "<div>\n",
       "<style scoped>\n",
       "    .dataframe tbody tr th:only-of-type {\n",
       "        vertical-align: middle;\n",
       "    }\n",
       "\n",
       "    .dataframe tbody tr th {\n",
       "        vertical-align: top;\n",
       "    }\n",
       "\n",
       "    .dataframe thead th {\n",
       "        text-align: right;\n",
       "    }\n",
       "</style>\n",
       "<table border=\"1\" class=\"dataframe\">\n",
       "  <thead>\n",
       "    <tr style=\"text-align: right;\">\n",
       "      <th></th>\n",
       "      <th>RD_NO</th>\n",
       "    </tr>\n",
       "    <tr>\n",
       "      <th>SEASON</th>\n",
       "      <th></th>\n",
       "    </tr>\n",
       "  </thead>\n",
       "  <tbody>\n",
       "    <tr>\n",
       "      <th>spring</th>\n",
       "      <td>25470</td>\n",
       "    </tr>\n",
       "    <tr>\n",
       "      <th>summer</th>\n",
       "      <td>33321</td>\n",
       "    </tr>\n",
       "    <tr>\n",
       "      <th>fall</th>\n",
       "      <td>17088</td>\n",
       "    </tr>\n",
       "    <tr>\n",
       "      <th>winter</th>\n",
       "      <td>23883</td>\n",
       "    </tr>\n",
       "  </tbody>\n",
       "</table>\n",
       "</div>"
      ],
      "text/plain": [
       "        RD_NO\n",
       "SEASON       \n",
       "spring  25470\n",
       "summer  33321\n",
       "fall    17088\n",
       "winter  23883"
      ]
     },
     "execution_count": 43,
     "metadata": {},
     "output_type": "execute_result"
    }
   ],
   "source": [
    "final = pd.concat([spring, summer, fall, winter])\n",
    "final.head()"
   ]
  }
 ],
 "metadata": {
  "kernelspec": {
   "display_name": "Python 3.9.12 ('base')",
   "language": "python",
   "name": "python3"
  },
  "language_info": {
   "codemirror_mode": {
    "name": "ipython",
    "version": 3
   },
   "file_extension": ".py",
   "mimetype": "text/x-python",
   "name": "python",
   "nbconvert_exporter": "python",
   "pygments_lexer": "ipython3",
   "version": "3.9.12"
  },
  "vscode": {
   "interpreter": {
    "hash": "4ab238c99601c0d9ef501b4369a75878bbe447410c0a44dbaa1d54ec640ee5e1"
   }
  }
 },
 "nbformat": 4,
 "nbformat_minor": 5
}
